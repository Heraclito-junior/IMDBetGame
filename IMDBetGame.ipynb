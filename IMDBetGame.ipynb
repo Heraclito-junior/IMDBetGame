{
 "cells": [
  {
   "cell_type": "code",
   "execution_count": null,
   "metadata": {
    "collapsed": false
   },
   "outputs": [],
   "source": [
    "import numpy as np\n",
    "import matplotlib.pyplot as plt\n",
    "from random import randint\n",
    "a = np.arange(50000).reshape(500, 100)\n",
    "\n",
    "i=0\n",
    "j=0\n",
    "piso=0\n",
    "dadoVez=-1\n",
    "despencar=0;\n",
    "\n",
    "while i < 500:\n",
    "    piso=0\n",
    "    while j<100:\n",
    "        despencar=randint(1,1000);\n",
    "        dadoVez=randint(1,6);\n",
    "        \n",
    "        if(despencar==452):\n",
    "            piso=0;\n",
    "            a[i][j]=piso;\n",
    "            j+=1\n",
    "            dadoVez=7\n",
    "        if(dadoVez==1 or dadoVez==2):\n",
    "            if(piso>0):\n",
    "                piso-=1;\n",
    "            a[i][j]=piso;\n",
    "            j+=1\n",
    "        elif(dadoVez==3 or dadoVez==4 or dadoVez==5):\n",
    "\n",
    "            piso+=1;\n",
    "            a[i][j]=piso;\n",
    "            j+=1\n",
    "        if(dadoVez==6):\n",
    "\n",
    "            dadoVez=randint(1,6);\n",
    "            piso+=dadoVez;\n",
    "            a[i][j]=piso;\n",
    "            j+=1\n",
    "        \n",
    "        \n",
    "    j=0\n",
    "    i+=1\n",
    "print(a)\n",
    "\n",
    "j=0;\n",
    "b = np.arange(500).reshape(500, 1)\n",
    "\n",
    "while j<500:\n",
    "    b[j][0]=a[j][99]\n",
    "    j+=1;\n",
    "\n",
    "\n",
    "plt.plot(b)\n",
    "plt.show()\n",
    "\n"
   ]
  }
 ],
 "metadata": {
  "kernelspec": {
   "display_name": "Python 3",
   "language": "python",
   "name": "python3"
  },
  "language_info": {
   "codemirror_mode": {
    "name": "ipython",
    "version": 3
   },
   "file_extension": ".py",
   "mimetype": "text/x-python",
   "name": "python",
   "nbconvert_exporter": "python",
   "pygments_lexer": "ipython3",
   "version": "3.6.0"
  }
 },
 "nbformat": 4,
 "nbformat_minor": 2
}
