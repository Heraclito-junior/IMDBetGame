{
 "cells": [
  {
   "cell_type": "code",
   "execution_count": 7,
   "metadata": {
    "collapsed": false
   },
   "outputs": [
    {
     "name": "stdout",
     "output_type": "stream",
     "text": [
      "[[  1   2   1 ...,  55  58  59]\n",
      " [  1   2   3 ...,  76  77  76]\n",
      " [  4   6   7 ...,  86  85  84]\n",
      " ..., \n",
      " [  1   0   0 ..., 130 136 137]\n",
      " [  0   2   3 ...,  78  77  80]\n",
      " [  1   2   3 ..., 100 101 102]]\n"
     ]
    }
   ],
   "source": [
    "import numpy as np\n",
    "from random import randint\n",
    "a = np.arange(50000).reshape(500, 100)\n",
    "\n",
    "i=0\n",
    "j=0\n",
    "piso=0\n",
    "dadoVez=-1\n",
    "despencar=0;\n",
    "\n",
    "while i < 500:\n",
    "    piso=0\n",
    "    while j<100:\n",
    "        despencar=randint(1,1000);\n",
    "        dadoVez=randint(1,6);\n",
    "        \n",
    "        if(despencar==452):\n",
    "            piso=0;\n",
    "            a[i][j]=piso;\n",
    "            j+=1\n",
    "            dadoVez=7\n",
    "        if(dadoVez==1 or dadoVez==2):\n",
    "            if(piso>0):\n",
    "                piso-=1;\n",
    "            a[i][j]=piso;\n",
    "            j+=1\n",
    "        elif(dadoVez==3 or dadoVez==4 or dadoVez==5):\n",
    "\n",
    "            piso+=1;\n",
    "            a[i][j]=piso;\n",
    "            j+=1\n",
    "        if(dadoVez==6):\n",
    "\n",
    "            dadoVez=randint(1,6);\n",
    "            piso+=dadoVez;\n",
    "            a[i][j]=piso;\n",
    "            j+=1\n",
    "        \n",
    "        \n",
    "    j=0\n",
    "    i+=1\n",
    "print(a)\n"
   ]
  },
  {
   "cell_type": "code",
   "execution_count": null,
   "metadata": {
    "collapsed": true
   },
   "outputs": [],
   "source": []
  },
  {
   "cell_type": "code",
   "execution_count": null,
   "metadata": {
    "collapsed": true
   },
   "outputs": [],
   "source": []
  }
 ],
 "metadata": {
  "kernelspec": {
   "display_name": "Python 3",
   "language": "python",
   "name": "python3"
  },
  "language_info": {
   "codemirror_mode": {
    "name": "ipython",
    "version": 3
   },
   "file_extension": ".py",
   "mimetype": "text/x-python",
   "name": "python",
   "nbconvert_exporter": "python",
   "pygments_lexer": "ipython3",
   "version": "3.6.0"
  }
 },
 "nbformat": 4,
 "nbformat_minor": 2
}
